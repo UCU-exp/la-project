{
 "cells": [
  {
   "cell_type": "code",
   "execution_count": 1,
   "metadata": {},
   "outputs": [],
   "source": [
    "import random\n",
    "import matplotlib.pyplot as plt"
   ]
  },
  {
   "cell_type": "code",
   "execution_count": 2,
   "metadata": {},
   "outputs": [
    {
     "name": "stdout",
     "output_type": "stream",
     "text": [
      "Generated Message: 0111\n"
     ]
    }
   ],
   "source": [
    "def generate_message():\n",
    "    return \"\".join([str(random.randint(0, 1)) for _ in range(4)])\n",
    "\n",
    "\n",
    "message = generate_message()\n",
    "print(\"Generated Message:\", message)"
   ]
  },
  {
   "cell_type": "code",
   "execution_count": 3,
   "metadata": {},
   "outputs": [
    {
     "name": "stdout",
     "output_type": "stream",
     "text": [
      "Original Data: 0111\n",
      "Encoded Message: 0001111\n"
     ]
    }
   ],
   "source": [
    "def hamming_74_encode(data):\n",
    "    if len(data) != 4:\n",
    "        raise ValueError(\"Input data must be 4 bits long\")\n",
    "    encoded = \"\"\n",
    "\n",
    "    p1 = str(int(data[0]) ^ int(data[1]) ^ int(data[2]))\n",
    "    p2 = str(int(data[0]) ^ int(data[2]) ^ int(data[3]))\n",
    "    p4 = str(int(data[1]) ^ int(data[2]) ^ int(data[3]))\n",
    "\n",
    "    encoded += p1\n",
    "    encoded += p2\n",
    "    encoded += data[0]\n",
    "    encoded += p4\n",
    "    encoded += data[1]\n",
    "    encoded += data[2]\n",
    "    encoded += data[3]\n",
    "\n",
    "    return encoded\n",
    "\n",
    "\n",
    "encoded_message = hamming_74_encode(message)\n",
    "print(\"Original Data:\", message)\n",
    "print(\"Encoded Message:\", encoded_message)"
   ]
  },
  {
   "cell_type": "code",
   "execution_count": 4,
   "metadata": {},
   "outputs": [
    {
     "name": "stdout",
     "output_type": "stream",
     "text": [
      "Generated Messages: 0111\n",
      "Encoded Message: 0001111\n",
      "Message with errors: 0100111\n"
     ]
    }
   ],
   "source": [
    "def errors(encoded_message, prob_of_error):\n",
    "    new_message = \"\"\n",
    "    for i in range(7):\n",
    "        if random.random() < prob_of_error:\n",
    "            if encoded_message[i] == \"0\":\n",
    "                new_message += \"1\"\n",
    "            else:\n",
    "                new_message += \"0\"\n",
    "        else:\n",
    "            new_message += encoded_message[i]\n",
    "    return new_message\n",
    "\n",
    "\n",
    "message_with_errors = errors(encoded_message, 0.2)\n",
    "print(\"Generated Messages:\", message)\n",
    "print(\"Encoded Message:\", encoded_message)\n",
    "print(\"Message with errors:\", message_with_errors)"
   ]
  },
  {
   "cell_type": "code",
   "execution_count": 23,
   "metadata": {},
   "outputs": [
    {
     "name": "stdout",
     "output_type": "stream",
     "text": [
      "Encoded Message: 0001111\n",
      "Decoded Data: 0111\n"
     ]
    }
   ],
   "source": [
    "def hamming_74_decode(encoded):\n",
    "    if len(encoded) != 7:\n",
    "        raise ValueError(\"Encoded data must be 7 bits long\")\n",
    "\n",
    "    H = [[1, 0, 1, 0, 1, 0, 1], [0, 1, 1, 0, 0, 1, 1], [0, 0, 0, 1, 1, 1, 1]]\n",
    "\n",
    "    encoded_bits = [int(bit) for bit in encoded]\n",
    "\n",
    "    syndrome = [sum(encoded_bits[j] * H[i][j] for j in range(7)) % 2 for i in range(3)]\n",
    "\n",
    "    error_pos = sum(syndrome[i] * (2**i) for i in range(3))\n",
    "\n",
    "    if error_pos != 0:\n",
    "        encoded_bits[error_pos - 1] = 1 - encoded_bits[error_pos - 1]\n",
    "\n",
    "    decoded_data = [encoded_bits[i] for i in [2, 4, 5, 6]]\n",
    "\n",
    "    decoded = \"\".join(map(str, decoded_data))\n",
    "\n",
    "    return decoded\n",
    "\n",
    "\n",
    "encoded_message = \"0001111\"\n",
    "decoded_data = hamming_74_decode(encoded_message)\n",
    "print(\"Encoded Message:\", encoded_message)\n",
    "print(\"Decoded Data:\", decoded_data)"
   ]
  },
  {
   "cell_type": "code",
   "execution_count": 26,
   "metadata": {},
   "outputs": [
    {
     "name": "stdout",
     "output_type": "stream",
     "text": [
      "Generated Messages: ['0011', '0111', '0000', '1111', '0011', '0000', '0100', '0001', '0111', '0000']\n",
      "Generated encoded Messages: ['1000011', '0001111', '0000000', '1111111', '1000011', '0000000', '1001100', '0101001', '0001111', '0000000']\n",
      "Generated Messages with errors: ['1000011', '0000011', '0100000', '1100011', '1110011', '0001001', '1111110', '0101000', '0101011', '0000000']\n",
      "Generated decoded Messages: ['0011', '0011', '0000', '0011', '1011', '1001', '1111', '0010', '0010', '0000']\n",
      "_________________________________________________________________\n",
      "Generated Messages: ['1111', '0111', '1101', '0001', '0110', '1111', '0010', '0111', '1111', '1001']\n",
      "Generated encoded Messages: ['1111111', '0001111', '0010101', '0101001', '0100110', '1111111', '1101010', '0001111', '1111111', '1011001']\n",
      "Generated Messages with errors: ['1010010', '0011101', '0100100', '1101010', '0100111', '1111011', '1101110', '0001110', '1011010', '1010100']\n",
      "Generated decoded Messages: ['1010', '1001', '0101', '0010', '0101', '1111', '0110', '0111', '1010', '1101']\n",
      "_________________________________________________________________\n",
      "Generated Messages: ['0111', '0100', '0111', '1111', '0101', '0111', '0001', '0100', '0001', '1000']\n",
      "Generated encoded Messages: ['0001111', '1001100', '0001111', '1111111', '1100101', '0001111', '0101001', '1001100', '0101001', '1110000']\n",
      "Generated Messages with errors: ['0110110', '0011110', '0101111', '1111111', '0110111', '0101011', '0101111', '1000110', '1001000', '1110001']\n",
      "Generated decoded Messages: ['1110', '1110', '0111', '1111', '1011', '0010', '0111', '0110', '0100', '1000']\n",
      "_________________________________________________________________\n"
     ]
    }
   ],
   "source": [
    "list_of_messages_1000 = [generate_message() for _ in range(1000)]\n",
    "list_of_messages_10000 = [generate_message() for _ in range(10000)]\n",
    "list_of_messages_100000 = [generate_message() for _ in range(100000)]\n",
    "\n",
    "\n",
    "list_of_messages_encoded_1000 = [\n",
    "    hamming_74_encode(message) for message in list_of_messages_1000\n",
    "]\n",
    "list_of_messages_encoded_10000 = [\n",
    "    hamming_74_encode(message) for message in list_of_messages_10000\n",
    "]\n",
    "list_of_messages_encoded_100000 = [\n",
    "    hamming_74_encode(message) for message in list_of_messages_100000\n",
    "]\n",
    "\n",
    "error_prob = 0.3\n",
    "\n",
    "list_of_messages_with_errors_1000 = [\n",
    "    errors(message, error_prob) for message in list_of_messages_encoded_1000\n",
    "]\n",
    "list_of_messages_with_errors_10000 = [\n",
    "    errors(message, error_prob) for message in list_of_messages_encoded_10000\n",
    "]\n",
    "list_of_messages_with_errors_100000 = [\n",
    "    errors(message, error_prob) for message in list_of_messages_encoded_100000\n",
    "]\n",
    "\n",
    "\n",
    "list_of_messages_decode_1000 = [\n",
    "    hamming_74_decode(message) for message in list_of_messages_with_errors_1000\n",
    "]\n",
    "list_of_messages_decode_10000 = [\n",
    "    hamming_74_decode(message) for message in list_of_messages_with_errors_10000\n",
    "]\n",
    "list_of_messages_decode_100000 = [\n",
    "    hamming_74_decode(message) for message in list_of_messages_with_errors_100000\n",
    "]\n",
    "\n",
    "print(\"Generated Messages:\", list_of_messages_1000[:10])\n",
    "print(\"Generated encoded Messages:\", list_of_messages_encoded_1000[:10])\n",
    "print(\"Generated Messages with errors:\", list_of_messages_with_errors_1000[:10])\n",
    "print(\"Generated decoded Messages:\", list_of_messages_decode_1000[:10])\n",
    "print(\"_________________________________________________________________\")\n",
    "\n",
    "print(\"Generated Messages:\", list_of_messages_10000[:10])\n",
    "print(\"Generated encoded Messages:\", list_of_messages_encoded_10000[:10])\n",
    "print(\"Generated Messages with errors:\", list_of_messages_with_errors_10000[:10])\n",
    "print(\"Generated decoded Messages:\", list_of_messages_decode_10000[:10])\n",
    "print(\"_________________________________________________________________\")\n",
    "\n",
    "print(\"Generated Messages:\", list_of_messages_100000[:10])\n",
    "print(\"Generated encoded Messages:\", list_of_messages_encoded_100000[:10])\n",
    "print(\"Generated Messages with errors:\", list_of_messages_with_errors_100000[:10])\n",
    "print(\"Generated decoded Messages:\", list_of_messages_decode_100000[:10])\n",
    "print(\"_________________________________________________________________\")"
   ]
  },
  {
   "cell_type": "code",
   "execution_count": 27,
   "metadata": {},
   "outputs": [
    {
     "name": "stdout",
     "output_type": "stream",
     "text": [
      "[2737, 2770, 3019, 1418, 56]\n"
     ]
    }
   ],
   "source": [
    "def count_errors(original_messages, decoded_messages):\n",
    "    corrected_errors = [0] * 5\n",
    "    for i in range(len(original_messages)):\n",
    "        number_of_errors = 0\n",
    "        for j in range(len(original_messages[i])):\n",
    "            if original_messages[i][j] != decoded_messages[i][j]:\n",
    "                number_of_errors += 1\n",
    "        corrected_errors[number_of_errors] += 1\n",
    "    return corrected_errors\n",
    "\n",
    "# print(list_of_messages_100000, list_of_messages_decode_10000)\n",
    "print(\n",
    "    count_errors(list_of_messages_10000, list_of_messages_decode_10000)\n",
    ")"
   ]
  },
  {
   "cell_type": "code",
   "execution_count": 30,
   "metadata": {},
   "outputs": [
    {
     "name": "stdout",
     "output_type": "stream",
     "text": [
      "[2737, 2770, 3019, 1418, 56]\n"
     ]
    },
    {
     "data": {
      "image/png": "[encoded data removed]",
      "text/plain": [
       "<Figure size 1000x600 with 1 Axes>"
      ]
     },
     "metadata": {},
     "output_type": "display_data"
    }
   ],
   "source": [
    "import numpy as np\n",
    "import matplotlib.pyplot as plt\n",
    "\n",
    "errors_count = list(range(8))\n",
    "corrected_counts = []\n",
    "\n",
    "\n",
    "corrected_counts = count_errors(list_of_messages_10000, list_of_messages_decode_10000)\n",
    "print(corrected_counts)\n",
    "\n",
    "x = np.arange(len(corrected_counts))\n",
    "\n",
    "width = 0.35\n",
    "\n",
    "fig, ax = plt.subplots(figsize=(10, 6))\n",
    "rects1 = ax.bar(\n",
    "    x - width / 2,\n",
    "    corrected_counts,\n",
    "    width,\n",
    "    label=\"Number Of detected Errors in decoded message in comparison with original\",\n",
    "    color=\"pink\",\n",
    ")\n",
    "\n",
    "ax.set_xlabel(\"Number of Errors\")\n",
    "ax.set_ylabel(\"Number of Messages\")\n",
    "ax.set_title(\"Counts of Corrected and Real Errors\")\n",
    "ax.set_xticks(x)\n",
    "ax.legend()\n",
    "\n",
    "\n",
    "def autolabel(rects):\n",
    "    for rect in rects:\n",
    "        height = rect.get_height()\n",
    "        ax.annotate(\n",
    "            \"{}\".format(height),\n",
    "            xy=(rect.get_x() + rect.get_width() / 2, height),\n",
    "            xytext=(0, 3),\n",
    "            textcoords=\"offset points\",\n",
    "            ha=\"center\",\n",
    "            va=\"bottom\",\n",
    "        )\n",
    "\n",
    "\n",
    "autolabel(rects1)\n",
    "\n",
    "plt.show()"
   ]
  }
 ],
 "metadata": {
  "kernelspec": {
   "display_name": "Python 3",
   "language": "python",
   "name": "python3"
  },
  "language_info": {
   "codemirror_mode": {
    "name": "ipython",
    "version": 3
   },
   "file_extension": ".py",
   "mimetype": "text/x-python",
   "name": "python",
   "nbconvert_exporter": "python",
   "pygments_lexer": "ipython3",
   "version": "3.10.7"
  }
 },
 "nbformat": 4,
 "nbformat_minor": 2
}

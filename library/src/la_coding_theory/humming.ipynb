{
 "cells": [
  {
   "cell_type": "code",
   "execution_count": 1,
   "metadata": {},
   "outputs": [],
   "source": [
    "import random\n",
    "import matplotlib.pyplot as plt"
   ]
  },
  {
   "cell_type": "code",
   "execution_count": 2,
   "metadata": {},
   "outputs": [
    {
     "name": "stdout",
     "output_type": "stream",
     "text": [
      "Generated Message: 0000\n"
     ]
    }
   ],
   "source": [
    "def generate_message():\n",
    "    return \"\".join([str(random.randint(0, 1)) for _ in range(4)])\n",
    "\n",
    "\n",
    "message = generate_message()\n",
    "print(\"Generated Message:\", message)"
   ]
  },
  {
   "cell_type": "code",
   "execution_count": 3,
   "metadata": {},
   "outputs": [
    {
     "name": "stdout",
     "output_type": "stream",
     "text": [
      "Original Data: 0000\n",
      "Encoded Message: 0000000\n"
     ]
    }
   ],
   "source": [
    "def hamming_74_encode(data):\n",
    "    # Перевірка, чи передано вірну кількість бітів\n",
    "    if len(data) != 4:\n",
    "        raise ValueError(\"Input data must be 4 bits long\")\n",
    "\n",
    "    # Кодування Геммінга (7,4)\n",
    "    encoded = \"\"\n",
    "\n",
    "    # Визначення бітів перевірки парності\n",
    "    p1 = str(int(data[0]) ^ int(data[1]) ^ int(data[3]))\n",
    "    p2 = str(int(data[0]) ^ int(data[2]) ^ int(data[3]))\n",
    "    p4 = str(int(data[1]) ^ int(data[2]) ^ int(data[3]))\n",
    "\n",
    "    # Формування закодованого слова\n",
    "    encoded += p1\n",
    "    encoded += p2\n",
    "    encoded += data[0]\n",
    "    encoded += p4\n",
    "    encoded += data[1]\n",
    "    encoded += data[2]\n",
    "    encoded += data[3]\n",
    "\n",
    "    return encoded\n",
    "\n",
    "encoded_message = hamming_74_encode(message)\n",
    "print(\"Original Data:\", message)\n",
    "print(\"Encoded Message:\", encoded_message)\n"
   ]
  },
  {
   "cell_type": "code",
   "execution_count": 6,
   "metadata": {},
   "outputs": [
    {
     "name": "stdout",
     "output_type": "stream",
     "text": [
      "Original Message: 1110\n",
      "Encoded Message: 0010110\n"
     ]
    }
   ],
   "source": [
    "# def hamming_encode(data):\n",
    "#     r = 0\n",
    "#     while 2**r < len(data) + r + 1:\n",
    "#         r += 1\n",
    "\n",
    "#     encoded = \"\"\n",
    "#     j = 0\n",
    "#     for i in range(len(data) + r):\n",
    "#         if i + 1 not in [2**k for k in range(r)]:\n",
    "#             encoded += data[j]\n",
    "#             j += 1\n",
    "#         else:\n",
    "#             encoded += \"0\" \n",
    "\n",
    "#     for i in range(r):\n",
    "#         parity_pos = 2**i\n",
    "#         ones_count = 0\n",
    "#         for j in range(1, len(encoded) + 1):\n",
    "#             if j & parity_pos == parity_pos and encoded[j - 1] == \"1\":\n",
    "#                 ones_count += 1\n",
    "#         encoded = encoded[: parity_pos - 1] + str(ones_count % 2) + encoded[parity_pos:]\n",
    "\n",
    "#     return encoded\n",
    "\n",
    "\n",
    "# encoded_message = hamming_encode(message)\n",
    "# print(\"Original Message:\", message)\n",
    "# print(\"Encoded Message:\", encoded_message)"
   ]
  },
  {
   "cell_type": "code",
   "execution_count": 4,
   "metadata": {},
   "outputs": [
    {
     "name": "stdout",
     "output_type": "stream",
     "text": [
      "Generated Messages: 0000\n",
      "Encoded Message: 0000000\n",
      "Message with errors: 0000000\n"
     ]
    }
   ],
   "source": [
    "def errors(encoded_message, prob_of_error):\n",
    "    new_message = \"\"\n",
    "    for i in range(7):\n",
    "        if random.random() < prob_of_error:\n",
    "            if encoded_message[i] == \"0\":\n",
    "                new_message += \"1\"\n",
    "            else:\n",
    "                new_message += \"0\"\n",
    "        else:\n",
    "            new_message += encoded_message[i]\n",
    "    return new_message\n",
    "\n",
    "\n",
    "message_with_errors = errors(encoded_message, 0.2)\n",
    "print(\"Generated Messages:\", message)\n",
    "print(\"Encoded Message:\", encoded_message)\n",
    "print(\"Message with errors:\", message_with_errors)"
   ]
  },
  {
   "cell_type": "code",
   "execution_count": 5,
   "metadata": {},
   "outputs": [
    {
     "name": "stdout",
     "output_type": "stream",
     "text": [
      "Encoded Message: 0000000\n",
      "Decoded Data: 0000\n"
     ]
    }
   ],
   "source": [
    "def hamming_74_decode(encoded):\n",
    "    # Перевірка, чи передано вірну кількість бітів\n",
    "    if len(encoded) != 7:\n",
    "        raise ValueError(\"Encoded data must be 7 bits long\")\n",
    "\n",
    "    # Розрахунок бітів перевірки парності\n",
    "    p1 = int(encoded[0]) ^ int(encoded[2]) ^ int(encoded[4]) ^ int(encoded[6])\n",
    "    p2 = int(encoded[1]) ^ int(encoded[2]) ^ int(encoded[5]) ^ int(encoded[6])\n",
    "    p4 = int(encoded[3]) ^ int(encoded[4]) ^ int(encoded[5]) ^ int(encoded[6])\n",
    "\n",
    "    # Визначення позиції помилки\n",
    "    error_pos = p1 * 1 + p2 * 2 + p4 * 4\n",
    "\n",
    "    # Корекція помилки\n",
    "    if error_pos != 0:\n",
    "        # print(\"Error detected at position:\", error_pos)\n",
    "        corrected_bit = '1' if encoded[error_pos - 1] == '0' else '0'\n",
    "        corrected_encoded = encoded[:error_pos - 1] + corrected_bit + encoded[error_pos:]\n",
    "        # print(\"Corrected Encoded Message:\", corrected_encoded)\n",
    "        encoded = corrected_encoded\n",
    "\n",
    "    # Вилучення бітів перевірки парності\n",
    "    decoded = encoded[2] + encoded[4] + encoded[5] + encoded[6]\n",
    "\n",
    "    return decoded\n",
    "\n",
    "# Приклад використання\n",
    "\n",
    "decoded_data = hamming_74_decode(encoded_message)\n",
    "print(\"Encoded Message:\", encoded_message)\n",
    "print(\"Decoded Data:\", decoded_data)\n"
   ]
  },
  {
   "cell_type": "code",
   "execution_count": 6,
   "metadata": {},
   "outputs": [],
   "source": [
    "# def hamming_decode(codeword):\n",
    "#     r = 0\n",
    "#     while 2**r < len(codeword):\n",
    "#         r += 1\n",
    "\n",
    "#     syndromes = []\n",
    "#     for i in range(r):\n",
    "#         parity_pos = 2**i\n",
    "#         ones_count = 0\n",
    "#         for j in range(1, len(codeword) + 1):\n",
    "#             if j & parity_pos == parity_pos and codeword[j - 1] == \"1\":\n",
    "#                 ones_count += 1\n",
    "#         syndromes.append(ones_count % 2)\n",
    "\n",
    "#     error_bit = sum([2**i * s for i, s in enumerate(syndromes)])\n",
    "\n",
    "#     if error_bit > 0:\n",
    "#         corrected_bit = \"0\" if codeword[error_bit - 1] == \"1\" else \"1\"\n",
    "#         codeword = codeword[: error_bit - 1] + corrected_bit + codeword[error_bit:]\n",
    "\n",
    "#     decoded = \"\"\n",
    "#     j = 0\n",
    "#     for i in range(len(codeword)):\n",
    "#         if i + 1 not in [2**k for k in range(r)]:\n",
    "#             decoded += codeword[i]\n",
    "#             j += 1\n",
    "\n",
    "#     return decoded\n",
    "\n",
    "\n",
    "# decoded_message = hamming_decode(message_with_errors)\n",
    "# print(\"Original message:\", message)\n",
    "# print(\"Encoded message:\", encoded_message)\n",
    "# print(\"Error message\", message_with_errors)\n",
    "# print(\"Decoded message:\", decoded_message)"
   ]
  },
  {
   "cell_type": "code",
   "execution_count": 7,
   "metadata": {},
   "outputs": [
    {
     "name": "stdout",
     "output_type": "stream",
     "text": [
      "Generated Messages: ['1110', '0000', '0001', '0101', '0001', '0001', '1000', '0001', '0000', '0000']\n",
      "Generated encoded Messages: ['0010110', '0000000', '1101001', '0100101', '1101001', '1101001', '1110000', '1101001', '0000000', '0000000']\n",
      "Generated Messages with errors: ['0001101', '0000010', '1111000', '1100101', '1101001', '1101010', '1100000', '1110111', '1101010', '0110101']\n",
      "Generated decoded Messages: ['0111', '0000', '1000', '0101', '0001', '0010', '1000', '1111', '0010', '0101']\n",
      "_________________________________________________________________\n",
      "Generated Messages: ['0111', '1111', '0010', '0110', '0110', '0110', '0111', '0010', '1100', '1111']\n",
      "Generated encoded Messages: ['0001111', '1111111', '0101010', '1100110', '1100110', '1100110', '0001111', '0101010', '0111100', '1111111']\n",
      "Generated Messages with errors: ['0001000', '1011111', '0011011', '1101110', '0101010', '1100010', '0101111', '1011000', '1111100', '0001111']\n",
      "Generated decoded Messages: ['0000', '1111', '1001', '0110', '0010', '0110', '0111', '1010', '1100', '0111']\n",
      "_________________________________________________________________\n",
      "Generated Messages: ['0000', '1110', '0000', '0011', '0110', '0110', '0111', '0101', '1000', '0001']\n",
      "Generated encoded Messages: ['0000000', '0010110', '0000000', '1000011', '1100110', '1100110', '0001111', '0100101', '1110000', '1101001']\n",
      "Generated Messages with errors: ['0000010', '0011010', '0000000', '0111011', '1100010', '1100101', '0111100', '0100101', '1110010', '1101111']\n",
      "Generated decoded Messages: ['0000', '1010', '0000', '1011', '0110', '0101', '1100', '0101', '1000', '1111']\n",
      "_________________________________________________________________\n"
     ]
    }
   ],
   "source": [
    "list_of_messages_1000 = [generate_message() for _ in range(1000)]\n",
    "list_of_messages_10000 = [generate_message() for _ in range(10000)]\n",
    "list_of_messages_100000 = [generate_message() for _ in range(100000)]\n",
    "\n",
    "\n",
    "list_of_messages_encoded_1000 = [\n",
    "    hamming_74_encode(message) for message in list_of_messages_1000\n",
    "]\n",
    "list_of_messages_encoded_10000 = [\n",
    "    hamming_74_encode(message) for message in list_of_messages_10000\n",
    "]\n",
    "list_of_messages_encoded_100000 = [\n",
    "    hamming_74_encode(message) for message in list_of_messages_100000\n",
    "]\n",
    "\n",
    "error_prob = 0.3\n",
    "\n",
    "list_of_messages_with_errors_1000 = [\n",
    "    errors(message, error_prob) for message in list_of_messages_encoded_1000\n",
    "]\n",
    "list_of_messages_with_errors_10000 = [\n",
    "    errors(message, error_prob) for message in list_of_messages_encoded_10000\n",
    "]\n",
    "list_of_messages_with_errors_100000 = [\n",
    "    errors(message, error_prob) for message in list_of_messages_encoded_100000\n",
    "]\n",
    "\n",
    "\n",
    "list_of_messages_decode_1000 = [\n",
    "    hamming_74_decode(message) for message in list_of_messages_with_errors_1000\n",
    "]\n",
    "list_of_messages_decode_10000 = [\n",
    "    hamming_74_decode(message) for message in list_of_messages_with_errors_10000\n",
    "]\n",
    "list_of_messages_decode_100000 = [\n",
    "    hamming_74_decode(message) for message in list_of_messages_with_errors_100000\n",
    "]\n",
    "\n",
    "print(\"Generated Messages:\", list_of_messages_1000[:10])\n",
    "print(\"Generated encoded Messages:\", list_of_messages_encoded_1000[:10])\n",
    "print(\"Generated Messages with errors:\", list_of_messages_with_errors_1000[:10])\n",
    "print(\"Generated decoded Messages:\", list_of_messages_decode_1000[:10])\n",
    "print(\"_________________________________________________________________\")\n",
    "\n",
    "print(\"Generated Messages:\", list_of_messages_10000[:10])\n",
    "print(\"Generated encoded Messages:\", list_of_messages_encoded_10000[:10])\n",
    "print(\"Generated Messages with errors:\", list_of_messages_with_errors_10000[:10])\n",
    "print(\"Generated decoded Messages:\", list_of_messages_decode_10000[:10])\n",
    "print(\"_________________________________________________________________\")\n",
    "\n",
    "print(\"Generated Messages:\", list_of_messages_100000[:10])\n",
    "print(\"Generated encoded Messages:\", list_of_messages_encoded_100000[:10])\n",
    "print(\"Generated Messages with errors:\", list_of_messages_with_errors_100000[:10])\n",
    "print(\"Generated decoded Messages:\", list_of_messages_decode_100000[:10])\n",
    "print(\"_________________________________________________________________\")"
   ]
  },
  {
   "cell_type": "code",
   "execution_count": 8,
   "metadata": {},
   "outputs": [
    {
     "name": "stdout",
     "output_type": "stream",
     "text": [
      "True\n"
     ]
    }
   ],
   "source": [
    "def check_equality(original_message, new_message):\n",
    "    for i in range(4):\n",
    "        if original_message[i] != new_message[i]:\n",
    "            return False\n",
    "    return True\n",
    "\n",
    "print(check_equality(list_of_messages_100000[2], list_of_messages_decode_100000[2]))"
   ]
  },
  {
   "cell_type": "code",
   "execution_count": 9,
   "metadata": {},
   "outputs": [],
   "source": [
    "def calculate_accuracy(original_messages, decoded_messages):\n",
    "    correct_count = sum([1 for original, decoded in zip(original_messages, decoded_messages) if original == decoded])\n",
    "    total_count = len(original_messages)\n",
    "    accuracy = correct_count / total_count\n",
    "    return accuracy"
   ]
  },
  {
   "cell_type": "code",
   "execution_count": 10,
   "metadata": {},
   "outputs": [
    {
     "name": "stdout",
     "output_type": "stream",
     "text": [
      "[0.836, 0.58, 0.323, 0.155]\n"
     ]
    }
   ],
   "source": [
    "def calculate_accuracy_for_error_rates(\n",
    "    error_rates,\n",
    "    list_of_messages,\n",
    "    hamming_encode,\n",
    "    errors,\n",
    "    hamming_decode,\n",
    "    calculate_accuracy,\n",
    "):\n",
    "    accuracies = []\n",
    "    for error_rate in error_rates:\n",
    "        encoded_messages = [hamming_encode(message) for message in list_of_messages]\n",
    "        messages_with_errors = [\n",
    "            errors(encoded_message, error_rate) for encoded_message in encoded_messages\n",
    "        ]\n",
    "        decoded_messages = [hamming_decode(message) for message in messages_with_errors]\n",
    "        accuracy = calculate_accuracy(list_of_messages, decoded_messages)\n",
    "        accuracies.append(accuracy)\n",
    "    return accuracies\n",
    "\n",
    "\n",
    "error_rates = [0.1, 0.2, 0.3, 0.4]\n",
    "accuracies = calculate_accuracy_for_error_rates(\n",
    "    error_rates,\n",
    "    list_of_messages_1000,\n",
    "    hamming_74_encode,\n",
    "    errors,\n",
    "    hamming_74_decode,\n",
    "    calculate_accuracy,\n",
    ")\n",
    "print(accuracies)"
   ]
  },
  {
   "cell_type": "code",
   "execution_count": 13,
   "metadata": {},
   "outputs": [
    {
     "data": {
      "image/png": "[encoded data removed]",
      "text/plain": [
       "<Figure size 640x480 with 1 Axes>"
      ]
     },
     "metadata": {},
     "output_type": "display_data"
    }
   ],
   "source": [
    "error_rates = [0.1, 0.2, 0.3, 0.4, 0.5, 0.6, 0.7, 0.8, 0.9, 0.10]\n",
    "\n",
    "accuracies_10000 = calculate_accuracy_for_error_rates(\n",
    "    error_rates,\n",
    "    list_of_messages_10000,\n",
    "    hamming_74_encode,\n",
    "    errors,\n",
    "    hamming_74_decode,\n",
    "    calculate_accuracy,\n",
    ")\n",
    "plt.plot(error_rates, accuracies_10000, marker=\"o\")\n",
    "plt.title(\"Hamming Algorithm Accuracy for Different Error Rates\")\n",
    "plt.xlabel(\"Error Rate\")\n",
    "plt.ylabel(\"Accuracy\")\n",
    "plt.grid(True)\n",
    "plt.xticks(error_rates)\n",
    "plt.show()\n"
   ]
  },
  {
   "cell_type": "code",
   "execution_count": 11,
   "metadata": {},
   "outputs": [],
   "source": [
    "\n",
    "def count_correct_decodes(messages, decoded_messages):\n",
    "    correct_count = sum(1 for m, d in zip(messages, decoded_messages) if m == d)\n",
    "    return correct_count / len(messages) * 100\n",
    "\n"
   ]
  },
  {
   "cell_type": "code",
   "execution_count": 12,
   "metadata": {},
   "outputs": [
    {
     "name": "stdout",
     "output_type": "stream",
     "text": [
      "[3333, 2254, 2818, 1567, 28]\n"
     ]
    }
   ],
   "source": [
    "def count_errors(original_messages, decoded_messages):\n",
    "    corrected_errors = [0] * 5\n",
    "    for i in range(len(original_messages)):\n",
    "        number_of_errors = 0\n",
    "        for j in range(len(original_messages[i])):\n",
    "            if original_messages[i][j] != decoded_messages[i][j]:\n",
    "                number_of_errors += 1\n",
    "        corrected_errors[number_of_errors] += 1\n",
    "    return corrected_errors\n",
    "\n",
    "# print(list_of_messages_100000, list_of_messages_decode_10000)\n",
    "print(\n",
    "    count_errors(list_of_messages_10000, list_of_messages_decode_10000)\n",
    ")"
   ]
  },
  {
   "cell_type": "code",
   "execution_count": 13,
   "metadata": {},
   "outputs": [
    {
     "name": "stdout",
     "output_type": "stream",
     "text": [
      "[2449, 4151, 2580, 744, 76]\n"
     ]
    }
   ],
   "source": [
    "def check_equality(original_message_list, new_message_list):\n",
    "    corrected_errors = [0] * 5\n",
    "    for i in range(len(original_message_list)):\n",
    "        counter_of_errors = 0\n",
    "        for j in range(len(original_message_list[i])):\n",
    "            if (\n",
    "                j not in [0, 1, 3]\n",
    "                and original_message_list[i][j] != new_message_list[i][j]\n",
    "            ):\n",
    "                counter_of_errors += 1\n",
    "        corrected_errors[counter_of_errors] += 1\n",
    "    return corrected_errors\n",
    "\n",
    "print(\n",
    "    check_equality(list_of_messages_encoded_10000, list_of_messages_with_errors_10000)\n",
    ")"
   ]
  },
  {
   "cell_type": "code",
   "execution_count": 14,
   "metadata": {},
   "outputs": [
    {
     "name": "stdout",
     "output_type": "stream",
     "text": [
      "[3333, 2254, 2818, 1567, 28]\n"
     ]
    },
    {
     "data": {
      "image/png": "[encoded data removed]",
      "text/plain": [
       "<Figure size 1000x600 with 1 Axes>"
      ]
     },
     "metadata": {},
     "output_type": "display_data"
    }
   ],
   "source": [
    "import numpy as np\n",
    "import matplotlib.pyplot as plt\n",
    "\n",
    "errors_count = list(range(8))\n",
    "corrected_counts = []\n",
    "\n",
    "\n",
    "corrected_counts = count_errors(list_of_messages_10000, list_of_messages_decode_10000)\n",
    "print(corrected_counts)\n",
    "\n",
    "real_number_of_errors = check_equality(\n",
    "    list_of_messages_encoded_10000, list_of_messages_with_errors_10000\n",
    ")\n",
    "\n",
    "x = np.arange(len(corrected_counts))\n",
    "\n",
    "width = 0.35\n",
    "\n",
    "fig, ax = plt.subplots(figsize=(10, 6))\n",
    "rects1 = ax.bar(\n",
    "    x - width / 2,\n",
    "    corrected_counts,\n",
    "    width,\n",
    "    label=\"Number Of Errors in decoded message in comparison with original\",\n",
    ")\n",
    "rects2 = ax.bar(\n",
    "    x + width / 2, real_number_of_errors, width, label=\"Real number of Errors\"\n",
    ")\n",
    "\n",
    "ax.set_xlabel(\"Number of Errors\")\n",
    "ax.set_ylabel(\"Counts\")\n",
    "ax.set_title(\"Counts of Corrected and Real Errors\")\n",
    "ax.set_xticks(x)\n",
    "ax.legend()\n",
    "\n",
    "\n",
    "def autolabel(rects):\n",
    "    for rect in rects:\n",
    "        height = rect.get_height()\n",
    "        ax.annotate(\n",
    "            \"{}\".format(height),\n",
    "            xy=(rect.get_x() + rect.get_width() / 2, height),\n",
    "            xytext=(0, 3),\n",
    "            textcoords=\"offset points\",\n",
    "            ha=\"center\",\n",
    "            va=\"bottom\",\n",
    "        )\n",
    "\n",
    "autolabel(rects1)\n",
    "autolabel(rects2)\n",
    "\n",
    "plt.show()"
   ]
  },
  {
   "cell_type": "code",
   "execution_count": null,
   "metadata": {},
   "outputs": [],
   "source": []
  }
 ],
 "metadata": {
  "kernelspec": {
   "display_name": "Python 3",
   "language": "python",
   "name": "python3"
  },
  "language_info": {
   "codemirror_mode": {
    "name": "ipython",
    "version": 3
   },
   "file_extension": ".py",
   "mimetype": "text/x-python",
   "name": "python",
   "nbconvert_exporter": "python",
   "pygments_lexer": "ipython3",
   "version": "3.12.3"
  }
 },
 "nbformat": 4,
 "nbformat_minor": 2
}
